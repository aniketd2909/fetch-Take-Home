{
 "cells": [
  {
   "cell_type": "markdown",
   "id": "866dbbb9",
   "metadata": {},
   "source": [
    "## Take Home Assessment - Fetch"
   ]
  },
  {
   "cell_type": "code",
   "execution_count": null,
   "id": "c1c27bd4",
   "metadata": {},
   "outputs": [],
   "source": []
  },
  {
   "cell_type": "markdown",
   "id": "093f9dc5",
   "metadata": {},
   "source": [
    "#### Problem Statement"
   ]
  },
  {
   "cell_type": "markdown",
   "id": "34717c50",
   "metadata": {},
   "source": [
    "Given a balance scale and 9 gold bars of the same size and look. You don’t know the exact weight of each bar,\n",
    "but you know they all weigh the same, except for one fake bar. It weighs less than others. You need to find the fake\n",
    "gold bar by only bars and balance scales.\n",
    "You can only place gold bars on scale plates (bowls) and find which scale weighs more or less."
   ]
  },
  {
   "cell_type": "markdown",
   "id": "fbf72b98",
   "metadata": {},
   "source": [
    "Challenge\n",
    "1. Play around with the website and find the best algorithm (minimum number of weighings for any possible\n",
    "fake bar position) to find the fake gold bar.\n",
    "2. Create the test automation project using any preferred language to perform\n",
    "a. clicks on buttons (“Weigh”, “Reset”)\n",
    "b. Getting the measurement results (field between the 'bowls')\n",
    "c. filling out the bowls grids with bar numbers (0 to 8)\n",
    "d. getting a list of weighing\n",
    "e. Clicking on the gold bar number at the bottom of the website and checking for the alert message\n",
    "3. Code the algorithm from step 1 which uses a set of actions from step 2 to find the fake gold bar\n",
    "The algorithm should populate and weigh gold bars until a fake one is found, click on a fake bar number, output the\n",
    "alert message, number of weighing, and list of weighing made."
   ]
  },
  {
   "cell_type": "code",
   "execution_count": null,
   "id": "c0e9bbfd",
   "metadata": {},
   "outputs": [],
   "source": []
  },
  {
   "cell_type": "code",
   "execution_count": null,
   "id": "4b670fe0",
   "metadata": {},
   "outputs": [],
   "source": []
  },
  {
   "cell_type": "markdown",
   "id": "4566d440",
   "metadata": {},
   "source": [
    "### Algorithm (Binary Search)"
   ]
  },
  {
   "cell_type": "markdown",
   "id": "c88665a0",
   "metadata": {},
   "source": [
    "#### 1. Divide the input bar into 2 halves evenly without using the last element and weigh them. \n",
    "#### 2. If the weighing is equal the last bar is fake \n",
    "#### 3. If the weighting is not equal, go to step one with the array which has smaller weight, continue until you are left with 1 element on both side and then return the result\n",
    "\n",
    "#### Essential we are dividing the problem into two parts and then searching in the resulting half, a pattern used in Binary Search\n"
   ]
  },
  {
   "cell_type": "code",
   "execution_count": null,
   "id": "0173782d",
   "metadata": {},
   "outputs": [],
   "source": []
  },
  {
   "cell_type": "markdown",
   "id": "f3bb71af",
   "metadata": {},
   "source": [
    "## Tools Used - Selenium + Chrome Driver + Python"
   ]
  },
  {
   "cell_type": "markdown",
   "id": "66a8bfd7",
   "metadata": {},
   "source": [
    "### Importing the required Libraries  "
   ]
  },
  {
   "cell_type": "code",
   "execution_count": 10,
   "id": "a28cc1c8",
   "metadata": {},
   "outputs": [],
   "source": [
    "from selenium import webdriver\n",
    "from selenium.webdriver.common.by import By ## To access elements from DOM\n",
    "import time ## To add Delay\n",
    "import re"
   ]
  },
  {
   "cell_type": "markdown",
   "id": "5ca1a3aa",
   "metadata": {},
   "source": [
    "### Connecting to the Test Web Page "
   ]
  },
  {
   "cell_type": "code",
   "execution_count": 11,
   "id": "908b4f8c",
   "metadata": {},
   "outputs": [
    {
     "name": "stderr",
     "output_type": "stream",
     "text": [
      "The chromedriver version (123.0.6312.122) detected in PATH at /usr/local/bin/chromedriver might not be compatible with the detected chrome version (124.0.6367.62); currently, chromedriver 124.0.6367.60 is recommended for chrome 124.*, so it is advised to delete the driver in PATH and retry\n"
     ]
    }
   ],
   "source": [
    "url = 'http://sdetchallenge.fetch.com/'\n",
    "driver = webdriver.Chrome()\n",
    "driver.get(url)"
   ]
  },
  {
   "cell_type": "code",
   "execution_count": null,
   "id": "8726d8e8",
   "metadata": {},
   "outputs": [],
   "source": []
  },
  {
   "cell_type": "markdown",
   "id": "09e38e18",
   "metadata": {},
   "source": [
    "### Defining Functions which will be used for testing "
   ]
  },
  {
   "cell_type": "code",
   "execution_count": 17,
   "id": "92c8abba",
   "metadata": {},
   "outputs": [],
   "source": [
    "## Function to add numbers to the Grid for Weighing\n",
    "def add_numbers(bar):\n",
    "    bar_len=len(bar)\n",
    "    index=bar_len//2   ## Dividing the given bar into two halves two add equal numbers to the left and right grid\n",
    "    for i in range(index):\n",
    "        val = driver.find_element(by=By.ID, value=f\"left_{i}\")\n",
    "        val.send_keys(f\"{bar[i]}\")\n",
    "    for i in range(index):\n",
    "        val = driver.find_element(by=By.ID, value=f\"right_{i}\")\n",
    "        val.send_keys(f\"{bar[i+index]}\")\n",
    "\n",
    "## Function to get the weigh list       \n",
    "def get_recent_weight():\n",
    "    weigh_button = driver.find_element(by=By.ID, value=\"weigh\")\n",
    "    weigh_button.click()\n",
    "    time.sleep(3)  ## The weigh doesn't show up immediately, so added some delay to it\n",
    "    weight_list = driver.find_elements(by=By.TAG_NAME,value=\"li\")\n",
    "    return weight_list[-1].text\n",
    "   \n",
    "## Function to get two array from the weight string \n",
    "def clean_weight_string(string):\n",
    "    match = re.match(r'\\[(.*?)\\] (\\W) \\[(.*?)\\]', string)\n",
    "    ## Extract the arrays\n",
    "    left_array = list(map(int, match.group(1).split(',')))\n",
    "    right_array = list(map(int, match.group(3).split(',')))\n",
    "\n",
    "    ## Extract the operator\n",
    "    operator = match.group(2)\n",
    "    return left_array,right_array,operator\n",
    "\n",
    "## Function to reset the grid\n",
    "def do_reset():\n",
    "    reset_button = driver.find_element(By.CSS_SELECTOR, \"div > button#reset:not(.result > button#reset)\")\n",
    "    reset_button.click()"
   ]
  },
  {
   "cell_type": "markdown",
   "id": "8497a883",
   "metadata": {},
   "source": [
    "##### Driver Function"
   ]
  },
  {
   "cell_type": "code",
   "execution_count": 18,
   "id": "75b3d926",
   "metadata": {},
   "outputs": [],
   "source": [
    "def find_fake_bar(bar):\n",
    "    \n",
    "    ## adding the number to the boxes\n",
    "    add_numbers(bar)\n",
    "    \n",
    "    ## Get the weigh\n",
    "    weight_string=get_recent_weight()\n",
    "    \n",
    "    ## Reset the two grids\n",
    "    do_reset()\n",
    "    \n",
    "    ## Check the condition\n",
    "    left_array,right_array,operator=clean_weight_string(weight_string)\n",
    "  \n",
    "    ## If both side has only one element, we have the answer\n",
    "    if len(left_array)==1:\n",
    "        if operator=='<':\n",
    "            val = driver.find_element(by=By.ID, value=f\"coin_{left_array[0]}\")\n",
    "            val.click()\n",
    "        else:\n",
    "            val = driver.find_element(by=By.ID, value=f\"coin_{right_array[0]}\")\n",
    "            val.click()   \n",
    "        return\n",
    "      \n",
    "    ## If both arrays are equal, last element is fake \n",
    "    elif operator=='=':\n",
    "        val = driver.find_element(by=By.ID, value=f\"coin_{len(bar)-1}\")\n",
    "        val.click()\n",
    "        return \n",
    "    elif operator=='<':\n",
    "        find_fake_bar(left_array)\n",
    "    else:\n",
    "        find_fake_bar(right_array)"
   ]
  },
  {
   "cell_type": "code",
   "execution_count": 20,
   "id": "7f9d4aba",
   "metadata": {},
   "outputs": [],
   "source": [
    "bar=[0,1,2,3,4,5,6,7,8]\n",
    "find_fake_bar(bar)  ## Calling the main function"
   ]
  },
  {
   "cell_type": "code",
   "execution_count": null,
   "id": "ba077239",
   "metadata": {},
   "outputs": [],
   "source": []
  },
  {
   "cell_type": "markdown",
   "id": "f783519c",
   "metadata": {},
   "source": [
    "### Run the below cell to show the number of weighing, and list of weighing made"
   ]
  },
  {
   "cell_type": "code",
   "execution_count": 21,
   "id": "0cfbb4e6",
   "metadata": {},
   "outputs": [],
   "source": [
    "## Find all elements with the tag name 'li'\n",
    "li_elements = driver.find_elements(By.TAG_NAME, 'li')\n",
    "\n",
    "## Get the list count\n",
    "list_count = len(li_elements)\n",
    "\n",
    "## Create a message string\n",
    "message = f\"Number of weighing: {list_count}\\\\n\"\n",
    "message += \"List of weighing made:\\\\n\"\n",
    "for index,element in enumerate(li_elements):\n",
    "    message += str(index+1)+')'+element.text+'\\\\n'\n",
    "    \n",
    "\n",
    "## Display the message in an alert box\n",
    "driver.execute_script(f\"alert('{message}');\")"
   ]
  },
  {
   "cell_type": "code",
   "execution_count": null,
   "id": "dcf98a59",
   "metadata": {},
   "outputs": [],
   "source": []
  },
  {
   "cell_type": "markdown",
   "id": "688624ea",
   "metadata": {},
   "source": [
    "### Closing the driver"
   ]
  },
  {
   "cell_type": "code",
   "execution_count": 22,
   "id": "1be24708",
   "metadata": {},
   "outputs": [],
   "source": [
    "driver.quit() "
   ]
  },
  {
   "cell_type": "code",
   "execution_count": null,
   "id": "55aa0f16",
   "metadata": {},
   "outputs": [],
   "source": []
  }
 ],
 "metadata": {
  "kernelspec": {
   "display_name": "Python 3 (ipykernel)",
   "language": "python",
   "name": "python3"
  },
  "language_info": {
   "codemirror_mode": {
    "name": "ipython",
    "version": 3
   },
   "file_extension": ".py",
   "mimetype": "text/x-python",
   "name": "python",
   "nbconvert_exporter": "python",
   "pygments_lexer": "ipython3",
   "version": "3.11.5"
  }
 },
 "nbformat": 4,
 "nbformat_minor": 5
}
